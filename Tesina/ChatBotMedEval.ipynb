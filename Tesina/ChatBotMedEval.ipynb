{
  "nbformat": 4,
  "nbformat_minor": 0,
  "metadata": {
    "colab": {
      "provenance": [],
      "authorship_tag": "ABX9TyPInfaZWEPDpLKyW+HQ7Nie",
      "include_colab_link": true
    },
    "kernelspec": {
      "name": "python3",
      "display_name": "Python 3"
    },
    "language_info": {
      "name": "python"
    }
  },
  "cells": [
    {
      "cell_type": "markdown",
      "metadata": {
        "id": "view-in-github",
        "colab_type": "text"
      },
      "source": [
        "<a href=\"https://colab.research.google.com/github/IvanSalinas2000/Preprocesamiento-y-clasificacion-de-datos/blob/main/Tesina/ChatBotMedEval.ipynb\" target=\"_parent\"><img src=\"https://colab.research.google.com/assets/colab-badge.svg\" alt=\"Open In Colab\"/></a>"
      ]
    },
    {
      "cell_type": "code",
      "execution_count": 1,
      "metadata": {
        "colab": {
          "base_uri": "https://localhost:8080/"
        },
        "id": "FrHvo2raz4fx",
        "outputId": "85fdc52e-54b8-4604-8299-9d54a91e3474"
      },
      "outputs": [
        {
          "output_type": "stream",
          "name": "stderr",
          "text": [
            "Downloading...\n",
            "From (original): https://drive.google.com/uc?id=1BRBRG-S_ntf2WoRzE-G2i9P6TOY0bYRW\n",
            "From (redirected): https://drive.google.com/uc?id=1BRBRG-S_ntf2WoRzE-G2i9P6TOY0bYRW&confirm=t&uuid=8b9362ec-36d9-45ef-8ec1-a6d43fbdd0c7\n",
            "To: /content/t5_chatbot_model.zip\n",
            "100%|██████████| 824M/824M [00:10<00:00, 81.9MB/s]\n",
            "Downloading...\n",
            "From: https://drive.google.com/uc?id=1rXDHQcFfciloVV6sykazFZkI_HHaZAm6\n",
            "To: /content/t5_chatbot_tokenizer.zip\n",
            "100%|██████████| 416k/416k [00:00<00:00, 69.7MB/s]\n"
          ]
        },
        {
          "output_type": "stream",
          "name": "stdout",
          "text": [
            "Archive:  t5_chatbot_model.zip\n",
            "  inflating: /content/t5_chatbot_model/config.json  \n",
            "  inflating: /content/t5_chatbot_model/tokenizer_config.json  \n",
            "  inflating: /content/t5_chatbot_model/spiece.model  \n",
            "  inflating: /content/t5_chatbot_model/generation_config.json  \n",
            "  inflating: /content/t5_chatbot_model/special_tokens_map.json  \n",
            "  inflating: /content/t5_chatbot_model/added_tokens.json  \n",
            "  inflating: /content/t5_chatbot_model/training_args.bin  \n",
            "  inflating: /content/t5_chatbot_model/model.safetensors  \n",
            "Archive:  t5_chatbot_tokenizer.zip\n",
            "  inflating: /content/t5_chatbot_tokenizer/tokenizer_config.json  \n",
            "  inflating: /content/t5_chatbot_tokenizer/spiece.model  \n",
            "  inflating: /content/t5_chatbot_tokenizer/special_tokens_map.json  \n",
            "  inflating: /content/t5_chatbot_tokenizer/added_tokens.json  \n"
          ]
        }
      ],
      "source": [
        "# DESCARGA DE LOS MODELOS DESDE GOOGLE DRIVE (públicos)\n",
        "import gdown\n",
        "\n",
        "# Enlaces públicos convertidos a IDs\n",
        "model_id = \"1BRBRG-S_ntf2WoRzE-G2i9P6TOY0bYRW\"\n",
        "tokenizer_id = \"1rXDHQcFfciloVV6sykazFZkI_HHaZAm6\"\n",
        "\n",
        "# Descargar los archivos ZIP\n",
        "gdown.download(f\"https://drive.google.com/uc?id={model_id}\", \"t5_chatbot_model.zip\", quiet=False)\n",
        "gdown.download(f\"https://drive.google.com/uc?id={tokenizer_id}\", \"t5_chatbot_tokenizer.zip\", quiet=False)\n",
        "\n",
        "# Descomprimir los archivos sin subcarpetas\n",
        "!unzip -o -j t5_chatbot_model.zip -d /content/t5_chatbot_model\n",
        "!unzip -o -j t5_chatbot_tokenizer.zip -d /content/t5_chatbot_tokenizer"
      ]
    },
    {
      "cell_type": "code",
      "source": [
        "from transformers import T5Tokenizer, T5ForConditionalGeneration\n",
        "import torch\n",
        "\n",
        "# Rutas descomprimidas\n",
        "model_path = \"/content/t5_chatbot_model\"\n",
        "tokenizer_path = \"/content/t5_chatbot_tokenizer\"\n",
        "\n",
        "# Cargar el tokenizador\n",
        "tokenizer = T5Tokenizer.from_pretrained(tokenizer_path)\n",
        "\n",
        "# Cargar el modelo\n",
        "model = T5ForConditionalGeneration.from_pretrained(model_path)\n",
        "\n",
        "# Usar GPU si está disponible\n",
        "device = torch.device(\"cuda\" if torch.cuda.is_available() else \"cpu\")\n",
        "model.to(device)\n",
        "\n",
        "# Poner el modelo en modo evaluación\n",
        "model.eval()"
      ],
      "metadata": {
        "colab": {
          "base_uri": "https://localhost:8080/"
        },
        "id": "GoLddemd3ODN",
        "outputId": "e24bc5a7-647f-486c-c1bb-40721350d1e7"
      },
      "execution_count": 2,
      "outputs": [
        {
          "output_type": "execute_result",
          "data": {
            "text/plain": [
              "T5ForConditionalGeneration(\n",
              "  (shared): Embedding(32100, 768)\n",
              "  (encoder): T5Stack(\n",
              "    (embed_tokens): Embedding(32100, 768)\n",
              "    (block): ModuleList(\n",
              "      (0): T5Block(\n",
              "        (layer): ModuleList(\n",
              "          (0): T5LayerSelfAttention(\n",
              "            (SelfAttention): T5Attention(\n",
              "              (q): Linear(in_features=768, out_features=768, bias=False)\n",
              "              (k): Linear(in_features=768, out_features=768, bias=False)\n",
              "              (v): Linear(in_features=768, out_features=768, bias=False)\n",
              "              (o): Linear(in_features=768, out_features=768, bias=False)\n",
              "              (relative_attention_bias): Embedding(32, 12)\n",
              "            )\n",
              "            (layer_norm): T5LayerNorm()\n",
              "            (dropout): Dropout(p=0.1, inplace=False)\n",
              "          )\n",
              "          (1): T5LayerFF(\n",
              "            (DenseReluDense): T5DenseActDense(\n",
              "              (wi): Linear(in_features=768, out_features=3072, bias=False)\n",
              "              (wo): Linear(in_features=3072, out_features=768, bias=False)\n",
              "              (dropout): Dropout(p=0.1, inplace=False)\n",
              "              (act): ReLU()\n",
              "            )\n",
              "            (layer_norm): T5LayerNorm()\n",
              "            (dropout): Dropout(p=0.1, inplace=False)\n",
              "          )\n",
              "        )\n",
              "      )\n",
              "      (1-11): 11 x T5Block(\n",
              "        (layer): ModuleList(\n",
              "          (0): T5LayerSelfAttention(\n",
              "            (SelfAttention): T5Attention(\n",
              "              (q): Linear(in_features=768, out_features=768, bias=False)\n",
              "              (k): Linear(in_features=768, out_features=768, bias=False)\n",
              "              (v): Linear(in_features=768, out_features=768, bias=False)\n",
              "              (o): Linear(in_features=768, out_features=768, bias=False)\n",
              "            )\n",
              "            (layer_norm): T5LayerNorm()\n",
              "            (dropout): Dropout(p=0.1, inplace=False)\n",
              "          )\n",
              "          (1): T5LayerFF(\n",
              "            (DenseReluDense): T5DenseActDense(\n",
              "              (wi): Linear(in_features=768, out_features=3072, bias=False)\n",
              "              (wo): Linear(in_features=3072, out_features=768, bias=False)\n",
              "              (dropout): Dropout(p=0.1, inplace=False)\n",
              "              (act): ReLU()\n",
              "            )\n",
              "            (layer_norm): T5LayerNorm()\n",
              "            (dropout): Dropout(p=0.1, inplace=False)\n",
              "          )\n",
              "        )\n",
              "      )\n",
              "    )\n",
              "    (final_layer_norm): T5LayerNorm()\n",
              "    (dropout): Dropout(p=0.1, inplace=False)\n",
              "  )\n",
              "  (decoder): T5Stack(\n",
              "    (embed_tokens): Embedding(32100, 768)\n",
              "    (block): ModuleList(\n",
              "      (0): T5Block(\n",
              "        (layer): ModuleList(\n",
              "          (0): T5LayerSelfAttention(\n",
              "            (SelfAttention): T5Attention(\n",
              "              (q): Linear(in_features=768, out_features=768, bias=False)\n",
              "              (k): Linear(in_features=768, out_features=768, bias=False)\n",
              "              (v): Linear(in_features=768, out_features=768, bias=False)\n",
              "              (o): Linear(in_features=768, out_features=768, bias=False)\n",
              "              (relative_attention_bias): Embedding(32, 12)\n",
              "            )\n",
              "            (layer_norm): T5LayerNorm()\n",
              "            (dropout): Dropout(p=0.1, inplace=False)\n",
              "          )\n",
              "          (1): T5LayerCrossAttention(\n",
              "            (EncDecAttention): T5Attention(\n",
              "              (q): Linear(in_features=768, out_features=768, bias=False)\n",
              "              (k): Linear(in_features=768, out_features=768, bias=False)\n",
              "              (v): Linear(in_features=768, out_features=768, bias=False)\n",
              "              (o): Linear(in_features=768, out_features=768, bias=False)\n",
              "            )\n",
              "            (layer_norm): T5LayerNorm()\n",
              "            (dropout): Dropout(p=0.1, inplace=False)\n",
              "          )\n",
              "          (2): T5LayerFF(\n",
              "            (DenseReluDense): T5DenseActDense(\n",
              "              (wi): Linear(in_features=768, out_features=3072, bias=False)\n",
              "              (wo): Linear(in_features=3072, out_features=768, bias=False)\n",
              "              (dropout): Dropout(p=0.1, inplace=False)\n",
              "              (act): ReLU()\n",
              "            )\n",
              "            (layer_norm): T5LayerNorm()\n",
              "            (dropout): Dropout(p=0.1, inplace=False)\n",
              "          )\n",
              "        )\n",
              "      )\n",
              "      (1-11): 11 x T5Block(\n",
              "        (layer): ModuleList(\n",
              "          (0): T5LayerSelfAttention(\n",
              "            (SelfAttention): T5Attention(\n",
              "              (q): Linear(in_features=768, out_features=768, bias=False)\n",
              "              (k): Linear(in_features=768, out_features=768, bias=False)\n",
              "              (v): Linear(in_features=768, out_features=768, bias=False)\n",
              "              (o): Linear(in_features=768, out_features=768, bias=False)\n",
              "            )\n",
              "            (layer_norm): T5LayerNorm()\n",
              "            (dropout): Dropout(p=0.1, inplace=False)\n",
              "          )\n",
              "          (1): T5LayerCrossAttention(\n",
              "            (EncDecAttention): T5Attention(\n",
              "              (q): Linear(in_features=768, out_features=768, bias=False)\n",
              "              (k): Linear(in_features=768, out_features=768, bias=False)\n",
              "              (v): Linear(in_features=768, out_features=768, bias=False)\n",
              "              (o): Linear(in_features=768, out_features=768, bias=False)\n",
              "            )\n",
              "            (layer_norm): T5LayerNorm()\n",
              "            (dropout): Dropout(p=0.1, inplace=False)\n",
              "          )\n",
              "          (2): T5LayerFF(\n",
              "            (DenseReluDense): T5DenseActDense(\n",
              "              (wi): Linear(in_features=768, out_features=3072, bias=False)\n",
              "              (wo): Linear(in_features=3072, out_features=768, bias=False)\n",
              "              (dropout): Dropout(p=0.1, inplace=False)\n",
              "              (act): ReLU()\n",
              "            )\n",
              "            (layer_norm): T5LayerNorm()\n",
              "            (dropout): Dropout(p=0.1, inplace=False)\n",
              "          )\n",
              "        )\n",
              "      )\n",
              "    )\n",
              "    (final_layer_norm): T5LayerNorm()\n",
              "    (dropout): Dropout(p=0.1, inplace=False)\n",
              "  )\n",
              "  (lm_head): Linear(in_features=768, out_features=32100, bias=False)\n",
              ")"
            ]
          },
          "metadata": {},
          "execution_count": 2
        }
      ]
    },
    {
      "cell_type": "code",
      "source": [
        "def generate_response_top_k_top_p(\n",
        "    question, model, tokenizer, max_length=64, top_k=50, top_p=0.95, temperature=1.0\n",
        "):\n",
        "    # Formatear la pregunta\n",
        "    formatted_question = f\"Answer the following question: {question}\"\n",
        "\n",
        "    # Tokenizar entrada\n",
        "    inputs = tokenizer(\n",
        "        formatted_question,\n",
        "        return_tensors=\"pt\",\n",
        "        padding=True,\n",
        "        truncation=True,\n",
        "        max_length=128,\n",
        "    ).to(device)\n",
        "\n",
        "    # Generar respuesta\n",
        "    outputs = model.generate(\n",
        "        input_ids=inputs[\"input_ids\"],\n",
        "        attention_mask=inputs[\"attention_mask\"],\n",
        "        max_length=max_length,\n",
        "        do_sample=True,\n",
        "        top_k=top_k,\n",
        "        top_p=top_p,\n",
        "        temperature=temperature,\n",
        "        pad_token_id=tokenizer.pad_token_id,\n",
        "    )\n",
        "\n",
        "    # Decodificar salida\n",
        "    response = tokenizer.decode(outputs[0], skip_special_tokens=True)\n",
        "    return response"
      ],
      "metadata": {
        "id": "5mbzFLj43QAd"
      },
      "execution_count": 3,
      "outputs": []
    },
    {
      "cell_type": "code",
      "source": [
        "# Pregunta de ejemplo\n",
        "question = \"What are the treatments of gastritis?\"\n",
        "\n",
        "# Generar respuesta\n",
        "response = generate_response_top_k_top_p(question, model, tokenizer)\n",
        "\n",
        "# Mostrar resultado\n",
        "print(\"Pregunta:\", question)\n",
        "print(\"Respuesta:\", response)"
      ],
      "metadata": {
        "colab": {
          "base_uri": "https://localhost:8080/"
        },
        "id": "lobywEri3Qmd",
        "outputId": "246f87ec-335e-4b52-beb7-873d9554381c"
      },
      "execution_count": 10,
      "outputs": [
        {
          "output_type": "stream",
          "name": "stdout",
          "text": [
            "Pregunta: What are the treatments of gastritis?\n",
            "Respuesta: treatment of gastritis usually involves medical treatment, specialized gastrointestinal procedures, and a specialized stomach cancer treatment. a doctor usually does not recommend treating gastritis until symptoms start within minutes of eating. medications prescribed to treat gastritis may help control pain, swelling and pain.\n"
          ]
        }
      ]
    },
    {
      "cell_type": "code",
      "source": [
        "# Lista de preguntas médicas simples\n",
        "questions = [\n",
        "    \"What are the symptoms of diabetes?\",\n",
        "    \"What are the treatments for hypertension?\",\n",
        "    \"How is asthma treated?\",\n",
        "    \"What are the symptoms of depression?\",\n",
        "    \"What are the treatments for gastritis?\",\n",
        "    \"How is pneumonia diagnosed?\",\n",
        "    \"What are the symptoms of anemia?\",\n",
        "    \"What are the treatments for migraine?\",\n",
        "    \"How is breast cancer treated?\",\n",
        "    \"What are the symptoms of COVID-19?\"\n",
        "]\n",
        "\n",
        "# Iterar sobre cada pregunta y generar respuesta\n",
        "for question in questions:\n",
        "    response = generate_response_top_k_top_p(question, model, tokenizer)\n",
        "    print(\"Pregunta:\", question)\n",
        "    print(\"Respuesta:\", response)\n",
        "    print(\"-\" * 80)"
      ],
      "metadata": {
        "colab": {
          "base_uri": "https://localhost:8080/"
        },
        "id": "TzanuTHH-45p",
        "outputId": "6793a5db-8e14-4f52-f5eb-03c9eee5f13b"
      },
      "execution_count": 11,
      "outputs": [
        {
          "output_type": "stream",
          "name": "stdout",
          "text": [
            "Pregunta: What are the symptoms of diabetes?\n",
            "Respuesta: the first sign of diabetes is an erection of glucose that is not visible in the urine of a person. it happens when blood glucose is too high in the blood and so too too quickly in the urine of the body. it also can cause the blood glucose levels to go up and down.\n",
            "--------------------------------------------------------------------------------\n",
            "Pregunta: What are the treatments for hypertension?\n",
            "Respuesta: these resources address the diagnosis or management of hypertension: - gene review: gene review: hypertension - genetic testing registry: hypertension 1 - medlineplus encyclopedia: hypertension 1, genetic testing registry: hypertension 2, genetic testing registry: hypertension 1 - medline\n",
            "--------------------------------------------------------------------------------\n",
            "Pregunta: How is asthma treated?\n",
            "Respuesta: asthma treatment generally includes treating the condition. however, the main purpose of treatment is to cure the disorder. for example, medicines such as ibuprofen, which are commonly prescribed for asthma control include - oxalate nitric oxide - cyclic sulf\n",
            "--------------------------------------------------------------------------------\n",
            "Pregunta: What are the symptoms of depression?\n",
            "Respuesta: if you have depression, it is the first sign that you have it. often, you see your mental state deteriorating. it can affect your work and relationships. it can also affect you relationships. for the most part, it may not be apparent in your life. there are many signs and symptoms that\n",
            "--------------------------------------------------------------------------------\n",
            "Pregunta: What are the treatments for gastritis?\n",
            "Respuesta: treatment for gastritis relies on treating the symptoms and keeping your bowel healthy. medicines and surgery can help - control bowel obstructions such as a gastritis gastrus - treat gastritis - remove the toxins from the liver and reduce the amount of\n",
            "--------------------------------------------------------------------------------\n",
            "Pregunta: How is pneumonia diagnosed?\n",
            "Respuesta: doctors diagnose pneumonia based on the signs and symptoms present at the time of diagnosis. symptoms of pneumonia typically begin at about the same time as they develop. in some cases, pneumonia may be missed altogether. when pneumonia develops, they can cause vomiting, nausea, headaches, coma, or pain.\n",
            "--------------------------------------------------------------------------------\n",
            "Pregunta: What are the symptoms of anemia?\n",
            "Respuesta: symptoms of anemia include blood in the blood, a heavy, bloated meal, and abnormal blood clotting. many people with anemia who have anemia do not get symptoms. however, when symptoms are present, they include - a feeling of fullness and/or drow\n",
            "--------------------------------------------------------------------------------\n",
            "Pregunta: What are the treatments for migraine?\n",
            "Respuesta: treating migraine may help control symptoms. some people may recover without treatment. however, you may have some lingering headaches. treatment includes taking certain medicines for the pain . other medications, such as acetaminophen and corticosteroid medications for pain, may help relieve the symptoms\n",
            "--------------------------------------------------------------------------------\n",
            "Pregunta: How is breast cancer treated?\n",
            "Respuesta: key points - breast cancer is treated with treatment. - treatment depends on the type and location of breast cancer. - whether there are signs or symptoms. - breast cancer can sometimes be treated by medications that are approved by the health care provider. - breast cancer usually occurs within a few days\n",
            "--------------------------------------------------------------------------------\n",
            "Pregunta: What are the symptoms of COVID-19?\n",
            "Respuesta: what are the signs and symptoms of COVID-19? the human phenotype ontology provides the following list of signs and symptoms for COVID-19. if the information is available, the table below includes how often the symptom is seen in people with this condition. you can use the\n",
            "--------------------------------------------------------------------------------\n"
          ]
        }
      ]
    }
  ]
}