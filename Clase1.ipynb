{
  "nbformat": 4,
  "nbformat_minor": 0,
  "metadata": {
    "colab": {
      "provenance": [],
      "authorship_tag": "ABX9TyNPvn7JhvAtauS6INevh7WM",
      "include_colab_link": true
    },
    "kernelspec": {
      "name": "python3",
      "display_name": "Python 3"
    },
    "language_info": {
      "name": "python"
    }
  },
  "cells": [
    {
      "cell_type": "markdown",
      "metadata": {
        "id": "view-in-github",
        "colab_type": "text"
      },
      "source": [
        "<a href=\"https://colab.research.google.com/github/IvanSalinas2000/Preprocesamiento-y-clasificacion-de-datos/blob/main/Clase1.ipynb\" target=\"_parent\"><img src=\"https://colab.research.google.com/assets/colab-badge.svg\" alt=\"Open In Colab\"/></a>"
      ]
    },
    {
      "cell_type": "code",
      "execution_count": 1,
      "metadata": {
        "colab": {
          "base_uri": "https://localhost:8080/"
        },
        "id": "8FUXlTPh0A1B",
        "outputId": "eef027a9-ff76-4be7-d57e-7bb0a534e828"
      },
      "outputs": [
        {
          "output_type": "stream",
          "name": "stdout",
          "text": [
            "Collecting gutenbergpy\n",
            "  Downloading gutenbergpy-0.3.5-py3-none-any.whl.metadata (7.7 kB)\n",
            "Requirement already satisfied: future>=0.15.2 in /usr/local/lib/python3.10/dist-packages (from gutenbergpy) (1.0.0)\n",
            "Collecting httpsproxy-urllib2 (from gutenbergpy)\n",
            "  Downloading httpsproxy_urllib2-1.0.tar.gz (28 kB)\n",
            "  Preparing metadata (setup.py) ... \u001b[?25l\u001b[?25hdone\n",
            "Requirement already satisfied: lxml>=3.2.0 in /usr/local/lib/python3.10/dist-packages (from gutenbergpy) (5.3.0)\n",
            "Collecting pymongo (from gutenbergpy)\n",
            "  Downloading pymongo-4.10.1-cp310-cp310-manylinux_2_17_x86_64.manylinux2014_x86_64.whl.metadata (22 kB)\n",
            "Requirement already satisfied: setuptools>=18.5 in /usr/local/lib/python3.10/dist-packages (from gutenbergpy) (75.1.0)\n",
            "Requirement already satisfied: chardet in /usr/local/lib/python3.10/dist-packages (from gutenbergpy) (5.2.0)\n",
            "Collecting dnspython<3.0.0,>=1.16.0 (from pymongo->gutenbergpy)\n",
            "  Downloading dnspython-2.7.0-py3-none-any.whl.metadata (5.8 kB)\n",
            "Downloading gutenbergpy-0.3.5-py3-none-any.whl (22 kB)\n",
            "Downloading pymongo-4.10.1-cp310-cp310-manylinux_2_17_x86_64.manylinux2014_x86_64.whl (1.4 MB)\n",
            "\u001b[2K   \u001b[90m━━━━━━━━━━━━━━━━━━━━━━━━━━━━━━━━━━━━━━━━\u001b[0m \u001b[32m1.4/1.4 MB\u001b[0m \u001b[31m31.7 MB/s\u001b[0m eta \u001b[36m0:00:00\u001b[0m\n",
            "\u001b[?25hDownloading dnspython-2.7.0-py3-none-any.whl (313 kB)\n",
            "\u001b[2K   \u001b[90m━━━━━━━━━━━━━━━━━━━━━━━━━━━━━━━━━━━━━━━━\u001b[0m \u001b[32m313.6/313.6 kB\u001b[0m \u001b[31m13.5 MB/s\u001b[0m eta \u001b[36m0:00:00\u001b[0m\n",
            "\u001b[?25hBuilding wheels for collected packages: httpsproxy-urllib2\n",
            "  Building wheel for httpsproxy-urllib2 (setup.py) ... \u001b[?25l\u001b[?25hdone\n",
            "  Created wheel for httpsproxy-urllib2: filename=httpsproxy_urllib2-1.0-py3-none-any.whl size=29250 sha256=f09b5e2b26903d6eee558d2411679be19ebb610c4c4e5415d3bb974293cbda91\n",
            "  Stored in directory: /root/.cache/pip/wheels/1b/fa/c3/4c14e72101070c40b56c2bfb4617e510e68f121e4f736a5d2a\n",
            "Successfully built httpsproxy-urllib2\n",
            "Installing collected packages: httpsproxy-urllib2, dnspython, pymongo, gutenbergpy\n",
            "Successfully installed dnspython-2.7.0 gutenbergpy-0.3.5 httpsproxy-urllib2-1.0 pymongo-4.10.1\n"
          ]
        }
      ],
      "source": [
        "# https://github.com/raduangelescu/gutenbergpy\n",
        "!pip install gutenbergpy"
      ]
    },
    {
      "cell_type": "code",
      "source": [
        "import gutenbergpy.textget"
      ],
      "metadata": {
        "id": "hsjXP7PN0blK"
      },
      "execution_count": 2,
      "outputs": []
    },
    {
      "cell_type": "code",
      "source": [
        "def obtener_libro(id = 2000):\n",
        "    raw_book = gutenbergpy.textget.get_text_by_id(id) # with headers\n",
        "    clean_book = gutenbergpy.textget.strip_headers(raw_book) # without headers\n",
        "    return clean_book, raw_book"
      ],
      "metadata": {
        "id": "oulRT-HK0hEj"
      },
      "execution_count": 3,
      "outputs": []
    },
    {
      "cell_type": "code",
      "source": [
        "libro_limpio, libro = obtener_libro()"
      ],
      "metadata": {
        "id": "Zgus-DGM1gf8"
      },
      "execution_count": 4,
      "outputs": []
    },
    {
      "cell_type": "code",
      "source": [
        "libro[:2000]"
      ],
      "metadata": {
        "colab": {
          "base_uri": "https://localhost:8080/"
        },
        "id": "k6fOjYlX1j-2",
        "outputId": "731f4ca0-74e5-4c89-a845-84717c166b7a"
      },
      "execution_count": 5,
      "outputs": [
        {
          "output_type": "execute_result",
          "data": {
            "text/plain": [
              "b'The Project Gutenberg eBook of Don Quijote, by Miguel de Cervantes Saavedra\\r\\n\\r\\nThis eBook is for the use of anyone anywhere in the United States and\\r\\nmost other parts of the world at no cost and with almost no restrictions\\r\\nwhatsoever. You may copy it, give it away or re-use it under the terms\\r\\nof the Project Gutenberg License included with this eBook or online at\\r\\nwww.gutenberg.org. If you are not located in the United States, you\\r\\nwill have to check the laws of the country where you are located before\\r\\nusing this eBook.\\r\\n\\r\\nTitle: Don Quijote\\r\\n\\r\\nAuthor: Miguel de Cervantes Saavedra\\r\\n\\r\\nRelease Date: December, 1999 [eBook #2000]\\r\\n[Most recently updated: January 2, 2020]\\r\\n\\r\\nLanguage: Spanish\\r\\n\\r\\nCharacter set encoding: UTF-8\\r\\n\\r\\nProduced by: an anonymous Project Gutenberg volunteer and Joaquin Cuenca Abela\\r\\n\\r\\n*** START OF THE PROJECT GUTENBERG EBOOK DON QUIJOTE ***\\r\\n\\r\\n\\r\\n\\r\\n\\r\\nEl ingenioso hidalgo don Quijote de la Mancha\\r\\n\\r\\n\\r\\n\\r\\npor Miguel de Cervantes Saavedra\\r\\n\\r\\n\\r\\n\\r\\n\\r\\n\\r\\nEl ingenioso hidalgo don Quijote de la Mancha\\r\\n\\r\\n\\r\\n  \\r\\nTasa\\r\\n\\r\\n  \\r\\nTestimonio de las erratas\\r\\n\\r\\n  \\r\\nEl Rey\\r\\n\\r\\n  \\r\\nAl Duque de B\\xc3\\xa9jar\\r\\n\\r\\n  \\r\\nPr\\xc3\\xb3logo\\r\\n\\r\\n  \\r\\nAl libro de don Quijote de la Mancha\\r\\n\\r\\n\\r\\n\\r\\nQue trata de la condici\\xc3\\xb3n y ejercicio del famoso\\r\\nhidalgo don Quijote de la Mancha\\r\\n\\r\\nQue trata de la primera salida que de su tierra hizo\\r\\nel ingenioso don Quijote\\r\\n\\r\\nDonde se cuenta la graciosa manera que tuvo don\\r\\nQuijote en armarse caballero\\r\\n\\r\\nDe lo que le sucedi\\xc3\\xb3 a nuestro caballero cuando sali\\xc3\\xb3\\r\\nde la venta\\r\\n\\r\\nDonde se prosigue la narraci\\xc3\\xb3n de la desgracia de\\r\\nnuestro caballero\\r\\n\\r\\nDel donoso y grande escrutinio que el cura y el\\r\\nbarbero hicieron en la librer\\xc3\\xada de nuestro ingenioso hidalgo\\r\\n\\r\\nDe la segunda salida de nuestro buen caballero don\\r\\nQuijote de la Mancha\\r\\n\\r\\nDel buen suceso que el valeroso don Quijote tuvo en\\r\\nla espantable y jam\\xc3\\xa1s imaginada aventura de los molinos de viento, con\\r\\notros sucesos dignos de felice recordaci\\xc3\\xb3n\\r\\n\\r\\nDonde se concluye y da fin a la estupenda batalla que\\r\\nel gall'"
            ]
          },
          "metadata": {},
          "execution_count": 5
        }
      ]
    },
    {
      "cell_type": "code",
      "source": [
        "libro_limpio[:1000]"
      ],
      "metadata": {
        "colab": {
          "base_uri": "https://localhost:8080/"
        },
        "id": "wx1WGrmK16HC",
        "outputId": "afb0ad73-0d37-4dd2-ded2-8aae40e6d4ee"
      },
      "execution_count": 6,
      "outputs": [
        {
          "output_type": "execute_result",
          "data": {
            "text/plain": [
              "b'\\n\\n\\n\\nEl ingenioso hidalgo don Quijote de la Mancha\\n\\n\\n\\npor Miguel de Cervantes Saavedra\\n\\n\\n\\n\\n\\nEl ingenioso hidalgo don Quijote de la Mancha\\n\\n\\n  \\nTasa\\n\\n  \\nTestimonio de las erratas\\n\\n  \\nEl Rey\\n\\n  \\nAl Duque de B\\xc3\\xa9jar\\n\\n  \\nPr\\xc3\\xb3logo\\n\\n  \\nAl libro de don Quijote de la Mancha\\n\\n\\n\\nQue trata de la condici\\xc3\\xb3n y ejercicio del famoso\\nhidalgo don Quijote de la Mancha\\n\\nQue trata de la primera salida que de su tierra hizo\\nel ingenioso don Quijote\\n\\nDonde se cuenta la graciosa manera que tuvo don\\nQuijote en armarse caballero\\n\\nDe lo que le sucedi\\xc3\\xb3 a nuestro caballero cuando sali\\xc3\\xb3\\nde la venta\\n\\nDonde se prosigue la narraci\\xc3\\xb3n de la desgracia de\\nnuestro caballero\\n\\nDel donoso y grande escrutinio que el cura y el\\nbarbero hicieron en la librer\\xc3\\xada de nuestro ingenioso hidalgo\\n\\nDe la segunda salida de nuestro buen caballero don\\nQuijote de la Mancha\\n\\nDel buen suceso que el valeroso don Quijote tuvo en\\nla espantable y jam\\xc3\\xa1s imaginada aventura de los molinos de viento, con\\notros sucesos dignos de felice recordaci\\xc3\\xb3n\\n'"
            ]
          },
          "metadata": {},
          "execution_count": 6
        }
      ]
    },
    {
      "cell_type": "code",
      "source": [
        "type(libro_limpio)"
      ],
      "metadata": {
        "colab": {
          "base_uri": "https://localhost:8080/"
        },
        "id": "zwRRDprl1-G7",
        "outputId": "7932490b-2b88-4932-feeb-1d8a90c4b3f6"
      },
      "execution_count": 7,
      "outputs": [
        {
          "output_type": "execute_result",
          "data": {
            "text/plain": [
              "bytes"
            ]
          },
          "metadata": {},
          "execution_count": 7
        }
      ]
    },
    {
      "cell_type": "code",
      "source": [
        "str_libro = libro_limpio.decode()\n",
        "str_libro[:1000]"
      ],
      "metadata": {
        "colab": {
          "base_uri": "https://localhost:8080/",
          "height": 105
        },
        "id": "jOdbCBHp2EFp",
        "outputId": "f616fabc-d0b0-4315-8c7c-14e4076ffd89"
      },
      "execution_count": 8,
      "outputs": [
        {
          "output_type": "execute_result",
          "data": {
            "text/plain": [
              "'\\n\\n\\n\\nEl ingenioso hidalgo don Quijote de la Mancha\\n\\n\\n\\npor Miguel de Cervantes Saavedra\\n\\n\\n\\n\\n\\nEl ingenioso hidalgo don Quijote de la Mancha\\n\\n\\n  \\nTasa\\n\\n  \\nTestimonio de las erratas\\n\\n  \\nEl Rey\\n\\n  \\nAl Duque de Béjar\\n\\n  \\nPrólogo\\n\\n  \\nAl libro de don Quijote de la Mancha\\n\\n\\n\\nQue trata de la condición y ejercicio del famoso\\nhidalgo don Quijote de la Mancha\\n\\nQue trata de la primera salida que de su tierra hizo\\nel ingenioso don Quijote\\n\\nDonde se cuenta la graciosa manera que tuvo don\\nQuijote en armarse caballero\\n\\nDe lo que le sucedió a nuestro caballero cuando salió\\nde la venta\\n\\nDonde se prosigue la narración de la desgracia de\\nnuestro caballero\\n\\nDel donoso y grande escrutinio que el cura y el\\nbarbero hicieron en la librería de nuestro ingenioso hidalgo\\n\\nDe la segunda salida de nuestro buen caballero don\\nQuijote de la Mancha\\n\\nDel buen suceso que el valeroso don Quijote tuvo en\\nla espantable y jamás imaginada aventura de los molinos de viento, con\\notros sucesos dignos de felice recordación\\n\\nDonde se'"
            ],
            "application/vnd.google.colaboratory.intrinsic+json": {
              "type": "string"
            }
          },
          "metadata": {},
          "execution_count": 8
        }
      ]
    },
    {
      "cell_type": "code",
      "source": [
        "list_libro = str_libro.split(\"\\n\")\n",
        "list_libro[:20]"
      ],
      "metadata": {
        "colab": {
          "base_uri": "https://localhost:8080/"
        },
        "id": "eFABnWzB2HXq",
        "outputId": "184bd282-43e8-4ac9-e671-cdc27c2923b3"
      },
      "execution_count": 9,
      "outputs": [
        {
          "output_type": "execute_result",
          "data": {
            "text/plain": [
              "['',\n",
              " '',\n",
              " '',\n",
              " '',\n",
              " 'El ingenioso hidalgo don Quijote de la Mancha',\n",
              " '',\n",
              " '',\n",
              " '',\n",
              " 'por Miguel de Cervantes Saavedra',\n",
              " '',\n",
              " '',\n",
              " '',\n",
              " '',\n",
              " '',\n",
              " 'El ingenioso hidalgo don Quijote de la Mancha',\n",
              " '',\n",
              " '',\n",
              " '  ',\n",
              " 'Tasa',\n",
              " '']"
            ]
          },
          "metadata": {},
          "execution_count": 9
        }
      ]
    },
    {
      "cell_type": "code",
      "source": [
        "libro_filitrado = list(filter(None, list_libro))\n",
        "libro_filitrado[:20]"
      ],
      "metadata": {
        "colab": {
          "base_uri": "https://localhost:8080/"
        },
        "id": "y3Rv_Fbf2LgX",
        "outputId": "4e29fcf3-d64a-40a3-8d02-8abe829a780a"
      },
      "execution_count": 10,
      "outputs": [
        {
          "output_type": "execute_result",
          "data": {
            "text/plain": [
              "['El ingenioso hidalgo don Quijote de la Mancha',\n",
              " 'por Miguel de Cervantes Saavedra',\n",
              " 'El ingenioso hidalgo don Quijote de la Mancha',\n",
              " '  ',\n",
              " 'Tasa',\n",
              " '  ',\n",
              " 'Testimonio de las erratas',\n",
              " '  ',\n",
              " 'El Rey',\n",
              " '  ',\n",
              " 'Al Duque de Béjar',\n",
              " '  ',\n",
              " 'Prólogo',\n",
              " '  ',\n",
              " 'Al libro de don Quijote de la Mancha',\n",
              " 'Que trata de la condición y ejercicio del famoso',\n",
              " 'hidalgo don Quijote de la Mancha',\n",
              " 'Que trata de la primera salida que de su tierra hizo',\n",
              " 'el ingenioso don Quijote',\n",
              " 'Donde se cuenta la graciosa manera que tuvo don']"
            ]
          },
          "metadata": {},
          "execution_count": 10
        }
      ]
    },
    {
      "cell_type": "markdown",
      "source": [
        "#Preprocesamiento"
      ],
      "metadata": {
        "id": "CGxI1Qv32Q-B"
      }
    },
    {
      "cell_type": "code",
      "source": [
        "import re\n",
        "import nltk\n",
        "from nltk.corpus import stopwords\n",
        "from nltk.tokenize import word_tokenize\n",
        "nltk.download('stopwords')\n",
        "nltk.download('punkt_tab')"
      ],
      "metadata": {
        "colab": {
          "base_uri": "https://localhost:8080/"
        },
        "id": "ve2p5C1h2M0n",
        "outputId": "d581976f-47a5-4dad-e117-f3f30d701926"
      },
      "execution_count": 11,
      "outputs": [
        {
          "output_type": "stream",
          "name": "stderr",
          "text": [
            "[nltk_data] Downloading package stopwords to /root/nltk_data...\n",
            "[nltk_data]   Unzipping corpora/stopwords.zip.\n",
            "[nltk_data] Downloading package punkt_tab to /root/nltk_data...\n",
            "[nltk_data]   Unzipping tokenizers/punkt_tab.zip.\n"
          ]
        },
        {
          "output_type": "execute_result",
          "data": {
            "text/plain": [
              "True"
            ]
          },
          "metadata": {},
          "execution_count": 11
        }
      ]
    },
    {
      "cell_type": "code",
      "source": [
        "# Eliminar stopwords\n",
        "stop_words = set(stopwords.words('spanish'))\n",
        "list(stop_words)[:20]"
      ],
      "metadata": {
        "colab": {
          "base_uri": "https://localhost:8080/"
        },
        "id": "kC1RCPNY2aYU",
        "outputId": "9417d4de-26f8-4385-d4db-70957b618295"
      },
      "execution_count": 12,
      "outputs": [
        {
          "output_type": "execute_result",
          "data": {
            "text/plain": [
              "['somos',\n",
              " 'estuvieras',\n",
              " 'mi',\n",
              " 'habías',\n",
              " 'hayáis',\n",
              " 'quien',\n",
              " 'habrán',\n",
              " 'nuestro',\n",
              " 'estás',\n",
              " 'tengo',\n",
              " 'tuvisteis',\n",
              " 'estoy',\n",
              " 'la',\n",
              " 'hubiese',\n",
              " 'míos',\n",
              " 'eso',\n",
              " 'nada',\n",
              " 'mí',\n",
              " 'tendrá',\n",
              " 'sentidas']"
            ]
          },
          "metadata": {},
          "execution_count": 12
        }
      ]
    },
    {
      "cell_type": "code",
      "source": [
        "from nltk.stem import SnowballStemmer\n",
        "nltk.download('wordnet')  # Necesario para lematización\n",
        "nltk.download('omw-1.4')\n",
        "\n",
        "# Utilizar lematización con WordNetLemmatizer (opcionalmente, usar stemming)\n",
        "lemmatizer = nltk.WordNetLemmatizer()\n",
        "stemmer = SnowballStemmer('spanish')  # Stemmer para español\n",
        "\n",
        "# Tokenizar el texto\n",
        "palabras = word_tokenize(str_libro.lower())  # Convierte a minúsculas y tokeniza\n",
        "palabras = [palabra for palabra in palabras if palabra.isalpha()]  # Filtra palabras alfabéticas\n",
        "\n",
        "# Aplicar stemming o lematización\n",
        "palabras_stem = [stemmer.stem(palabra) for palabra in palabras if palabra not in stop_words]\n",
        "palabras_lem = [lemmatizer.lemmatize(palabra) for palabra in palabras if palabra not in stop_words]\n",
        "\n",
        "# Calcular frecuencia de palabras\n",
        "from collections import Counter\n",
        "frecuencia_stem = Counter(palabras_stem)\n",
        "frecuencia_lem = Counter(palabras_lem)\n",
        "\n",
        "# Mostrar las palabras más comunes (stemming)\n",
        "print(\"Palabras más comunes (stemming):\")\n",
        "print(frecuencia_stem.most_common(10))\n",
        "\n",
        "# Mostrar las palabras más comunes (lematización)\n",
        "print(\"Palabras más comunes (lematización):\")\n",
        "print(frecuencia_lem.most_common(10))\n"
      ],
      "metadata": {
        "colab": {
          "base_uri": "https://localhost:8080/"
        },
        "id": "37aPrDum2etB",
        "outputId": "6b015311-3c42-4b00-ed8d-94ae41cd023a"
      },
      "execution_count": 14,
      "outputs": [
        {
          "output_type": "stream",
          "name": "stderr",
          "text": [
            "[nltk_data] Downloading package wordnet to /root/nltk_data...\n",
            "[nltk_data] Downloading package omw-1.4 to /root/nltk_data...\n"
          ]
        },
        {
          "output_type": "stream",
          "name": "stdout",
          "text": [
            "Palabras más comunes (stemming):\n",
            "[('don', 2723), ('si', 1959), ('señor', 1814), ('quijot', 1724), ('sanch', 1677), ('tan', 1235), ('hac', 1160), ('buen', 1111), ('asi', 1092), ('bien', 1061)]\n",
            "Palabras más comunes (lematización):\n",
            "[('don', 2714), ('si', 1959), ('quijote', 1719), ('sancho', 1667), ('tan', 1235), ('señor', 1064), ('así', 1062), ('ser', 1059), ('bien', 1042), ('dijo', 933)]\n"
          ]
        }
      ]
    },
    {
      "cell_type": "code",
      "source": [
        "import matplotlib.pyplot as plt\n",
        "import seaborn as sns\n",
        "sns.set_style(\"whitegrid\")  # Estilo para mejorar la visualización\n",
        "\n",
        "def graficar_frecuencia_palabras(frecuencia, titulo, num_palabras=10):\n",
        "    palabras, conteos = zip(*frecuencia.most_common(num_palabras))\n",
        "    plt.figure(figsize=(10, 6))\n",
        "    plt.barh(palabras, conteos, color='skyblue')\n",
        "    plt.xlabel('Frecuencia')\n",
        "    plt.title(titulo)\n",
        "    plt.gca().invert_yaxis()  # Invertir el eje Y para mostrar la palabra más frecuente arriba\n",
        "    plt.show()\n",
        "\n",
        "# Visualizar palabras más comunes usando stemming\n",
        "graficar_frecuencia_palabras(frecuencia_stem, \"Frecuencia de Palabras (Stemming)\", 10)\n",
        "\n",
        "# Visualizar palabras más comunes usando lematización\n",
        "graficar_frecuencia_palabras(frecuencia_lem, \"Frecuencia de Palabras (Lematización)\", 10)\n"
      ],
      "metadata": {
        "colab": {
          "base_uri": "https://localhost:8080/",
          "height": 1000
        },
        "id": "RzRyP_5e42WK",
        "outputId": "cbbb3879-ac44-4b38-a1d2-7d85fbb7d902"
      },
      "execution_count": 15,
      "outputs": [
        {
          "output_type": "display_data",
          "data": {
            "text/plain": [
              "<Figure size 1000x600 with 1 Axes>"
            ],
            "image/png": "[encoded data removed]"
          },
          "metadata": {}
        },
        {
          "output_type": "display_data",
          "data": {
            "text/plain": [
              "<Figure size 1000x600 with 1 Axes>"
            ],
            "image/png": "[encoded data removed]"
          },
          "metadata": {}
        }
      ]
    }
  ]
}